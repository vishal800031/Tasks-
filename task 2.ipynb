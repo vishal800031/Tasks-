{
 "cells": [
  {
   "cell_type": "code",
   "execution_count": 1,
   "id": "d6043715",
   "metadata": {},
   "outputs": [],
   "source": [
    "# 1 . Try to reverse a list\n",
    "l = [3,4,5,6,7 , [23,456,67,8,78,78] , [345,56,87,8,98,9] , (234,6657,6) , {\"key1\" :\"sudh\" , 234:[23,45,656]}]\n",
    "l.reverse()"
   ]
  },
  {
   "cell_type": "code",
   "execution_count": 2,
   "id": "1794acfd",
   "metadata": {},
   "outputs": [
    {
     "data": {
      "text/plain": [
       "[{'key1': 'sudh', 234: [23, 45, 656]},\n",
       " (234, 6657, 6),\n",
       " [345, 56, 87, 8, 98, 9],\n",
       " [23, 456, 67, 8, 78, 78],\n",
       " 7,\n",
       " 6,\n",
       " 5,\n",
       " 4,\n",
       " 3]"
      ]
     },
     "execution_count": 2,
     "metadata": {},
     "output_type": "execute_result"
    }
   ],
   "source": [
    "l"
   ]
  },
  {
   "cell_type": "code",
   "execution_count": 5,
   "id": "d65fe930",
   "metadata": {},
   "outputs": [
    {
     "data": {
      "text/plain": [
       "234"
      ]
     },
     "execution_count": 5,
     "metadata": {},
     "output_type": "execute_result"
    }
   ],
   "source": [
    "# 2. try to access 234 out of this list \n",
    "l = [3,4,5,6,7 , [23,456,67,8,78,78] , [345,56,87,8,98,9] , (234,6657,6) , {\"key1\" :\"sudh\" , 234:[23,45,656]}]\n",
    "l[7][0]"
   ]
  },
  {
   "cell_type": "code",
   "execution_count": 7,
   "id": "dc122d42",
   "metadata": {},
   "outputs": [
    {
     "data": {
      "text/plain": [
       "456"
      ]
     },
     "execution_count": 7,
     "metadata": {},
     "output_type": "execute_result"
    }
   ],
   "source": [
    "# 3 . try to access 456 \n",
    "l[5][1]"
   ]
  },
  {
   "cell_type": "code",
   "execution_count": 8,
   "id": "6aeaaaac",
   "metadata": {},
   "outputs": [
    {
     "name": "stdout",
     "output_type": "stream",
     "text": [
      "[23, 456, 67, 8, 78, 78]\n",
      "[345, 56, 87, 8, 98, 9]\n"
     ]
    }
   ],
   "source": [
    "# 4 . Try to extract only a list collection form list l \n",
    "for i in l:\n",
    "    if type(i)==list:\n",
    "        print(i)"
   ]
  },
  {
   "cell_type": "code",
   "execution_count": 9,
   "id": "28290278",
   "metadata": {},
   "outputs": [
    {
     "data": {
      "text/plain": [
       "'sudh'"
      ]
     },
     "execution_count": 9,
     "metadata": {},
     "output_type": "execute_result"
    }
   ],
   "source": [
    "# 5 . Try to extract \"sudh\"\n",
    "l[8][\"key1\"]"
   ]
  },
  {
   "cell_type": "code",
   "execution_count": 10,
   "id": "41ac73aa",
   "metadata": {},
   "outputs": [
    {
     "data": {
      "text/plain": [
       "['key1', 234]"
      ]
     },
     "execution_count": 10,
     "metadata": {},
     "output_type": "execute_result"
    }
   ],
   "source": [
    "# 6 . Try to list all the key in dict element avaible in list \n",
    "list(l[8].keys())"
   ]
  },
  {
   "cell_type": "code",
   "execution_count": 11,
   "id": "d5e61151",
   "metadata": {},
   "outputs": [
    {
     "data": {
      "text/plain": [
       "['sudh', [23, 45, 656]]"
      ]
     },
     "execution_count": 11,
     "metadata": {},
     "output_type": "execute_result"
    }
   ],
   "source": [
    "# 7 . Try to extract all the value element form dict available in list\n",
    "list(l[8].values())"
   ]
  },
  {
   "cell_type": "code",
   "execution_count": null,
   "id": "9d5d3a90",
   "metadata": {},
   "outputs": [],
   "source": []
  }
 ],
 "metadata": {
  "kernelspec": {
   "display_name": "Python 3 (ipykernel)",
   "language": "python",
   "name": "python3"
  },
  "language_info": {
   "codemirror_mode": {
    "name": "ipython",
    "version": 3
   },
   "file_extension": ".py",
   "mimetype": "text/x-python",
   "name": "python",
   "nbconvert_exporter": "python",
   "pygments_lexer": "ipython3",
   "version": "3.11.5"
  }
 },
 "nbformat": 4,
 "nbformat_minor": 5
}
