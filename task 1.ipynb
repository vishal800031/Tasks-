{
 "cells": [
  {
   "cell_type": "code",
   "execution_count": 2,
   "id": "e1fda0d5",
   "metadata": {},
   "outputs": [
    {
     "data": {
      "text/plain": [
       "'h   r tnrrmglsnimeNGyosi dtfco'"
      ]
     },
     "execution_count": 2,
     "metadata": {},
     "output_type": "execute_result"
    }
   ],
   "source": [
    "# 1 . Try to extract data from index one to index 300 with a jump of 3 \n",
    "s = \"this is My First Python programming class and i am learNING python string and its function\"\n",
    "s[1:300:3]"
   ]
  },
  {
   "cell_type": "code",
   "execution_count": 3,
   "id": "73fe7dd9",
   "metadata": {},
   "outputs": [
    {
     "data": {
      "text/plain": [
       "'noitcnuf sti dna gnirts nohtyp GNINrael ma i dna ssalc gnimmargorp nohtyP tsriF yM si siht'"
      ]
     },
     "execution_count": 3,
     "metadata": {},
     "output_type": "execute_result"
    }
   ],
   "source": [
    "s = \"this is My First Python programming class and i am learNING python string and its function\"\n",
    "# 2. Try to reverse a string without using reverse function \n",
    "s[::-1]"
   ]
  },
  {
   "cell_type": "code",
   "execution_count": 8,
   "id": "ca9ea9c6",
   "metadata": {},
   "outputs": [
    {
     "data": {
      "text/plain": [
       "['THIS',\n",
       " 'IS',\n",
       " 'MY',\n",
       " 'FIRST',\n",
       " 'PYTHON',\n",
       " 'PROGRAMMING',\n",
       " 'CLASS',\n",
       " 'AND',\n",
       " 'I',\n",
       " 'AM',\n",
       " 'LEARNING',\n",
       " 'PYTHON',\n",
       " 'STRING',\n",
       " 'AND',\n",
       " 'ITS',\n",
       " 'FUNCTION']"
      ]
     },
     "execution_count": 8,
     "metadata": {},
     "output_type": "execute_result"
    }
   ],
   "source": [
    "s = \"this is My First Python programming class and i am learNING python string and its function\"\n",
    "# 3. Try to split a string after conversion of entire string in uppercase \n",
    "s1=s.upper()\n",
    "s1.split()"
   ]
  },
  {
   "cell_type": "code",
   "execution_count": 9,
   "id": "4d9c04c1",
   "metadata": {},
   "outputs": [
    {
     "data": {
      "text/plain": [
       "'this is my first python programming class and i am learning python string and its function'"
      ]
     },
     "execution_count": 9,
     "metadata": {},
     "output_type": "execute_result"
    }
   ],
   "source": [
    "s = \"this is My First Python programming class and i am learNING python string and its function\"\n",
    "# 4. try to convert the whole string into lower case \n",
    "s.lower()"
   ]
  },
  {
   "cell_type": "code",
   "execution_count": 10,
   "id": "45f7c0b8",
   "metadata": {},
   "outputs": [
    {
     "data": {
      "text/plain": [
       "'This is my first python programming class and i am learning python string and its function'"
      ]
     },
     "execution_count": 10,
     "metadata": {},
     "output_type": "execute_result"
    }
   ],
   "source": [
    "# 5 . Try to capitalize the whole string \n",
    "s.capitalize()"
   ]
  },
  {
   "cell_type": "code",
   "execution_count": 11,
   "id": "83fe1232",
   "metadata": {},
   "outputs": [
    {
     "data": {
      "text/plain": [
       "True"
      ]
     },
     "execution_count": 11,
     "metadata": {},
     "output_type": "execute_result"
    }
   ],
   "source": [
    "# 6 . Write a diference between isalnum() and isalpha()\n",
    "# Ans. The isalpha() method returns True if all the characters in the string are alphabets, and the isalnum() method returns True if all the characters in the string are either alphabets or numbers.\n",
    "a1 = \"vish123\"\n",
    "a1.isalnum()"
   ]
  },
  {
   "cell_type": "code",
   "execution_count": 12,
   "id": "dd37fbe6",
   "metadata": {},
   "outputs": [
    {
     "data": {
      "text/plain": [
       "False"
      ]
     },
     "execution_count": 12,
     "metadata": {},
     "output_type": "execute_result"
    }
   ],
   "source": [
    "a1 = \"vish123\"\n",
    "a1.isalpha()"
   ]
  },
  {
   "cell_type": "code",
   "execution_count": 13,
   "id": "5129bfd8",
   "metadata": {},
   "outputs": [
    {
     "data": {
      "text/plain": [
       "'saef    sdfg    sadfyg342       sdf'"
      ]
     },
     "execution_count": 13,
     "metadata": {},
     "output_type": "execute_result"
    }
   ],
   "source": [
    "# 7. Try to give an example of expand tab\n",
    "d=\"saef\\tsdfg\\tsadfyg342\\tsdf\"\n",
    "d.expandtabs()"
   ]
  },
  {
   "cell_type": "code",
   "execution_count": 17,
   "id": "08ec44d0",
   "metadata": {},
   "outputs": [
    {
     "data": {
      "text/plain": [
       "'hellow'"
      ]
     },
     "execution_count": 17,
     "metadata": {},
     "output_type": "execute_result"
    }
   ],
   "source": [
    "# 8 . Give an example of strip , lstrip and rstrip \n",
    "t= \"       hellow        \"\n",
    "t.strip()"
   ]
  },
  {
   "cell_type": "code",
   "execution_count": 18,
   "id": "14262312",
   "metadata": {},
   "outputs": [
    {
     "data": {
      "text/plain": [
       "'hellow        '"
      ]
     },
     "execution_count": 18,
     "metadata": {},
     "output_type": "execute_result"
    }
   ],
   "source": [
    "t.lstrip()"
   ]
  },
  {
   "cell_type": "code",
   "execution_count": 19,
   "id": "9af4cc77",
   "metadata": {},
   "outputs": [
    {
     "data": {
      "text/plain": [
       "'       hellow'"
      ]
     },
     "execution_count": 19,
     "metadata": {},
     "output_type": "execute_result"
    }
   ],
   "source": [
    "t.rstrip()"
   ]
  },
  {
   "cell_type": "code",
   "execution_count": 20,
   "id": "52b41e21",
   "metadata": {},
   "outputs": [
    {
     "data": {
      "text/plain": [
       "' bye world'"
      ]
     },
     "execution_count": 20,
     "metadata": {},
     "output_type": "execute_result"
    }
   ],
   "source": [
    "#  9.  Replace a string charecter by another charector by taking your own example \n",
    "r=\" hellow world\"\n",
    "r.replace(\"hellow\",\"bye\")"
   ]
  },
  {
   "cell_type": "code",
   "execution_count": 22,
   "id": "74653567",
   "metadata": {},
   "outputs": [
    {
     "data": {
      "text/plain": [
       "'***human***'"
      ]
     },
     "execution_count": 22,
     "metadata": {},
     "output_type": "execute_result"
    }
   ],
   "source": [
    "#  10 . Try  to give a defination of string center function with an exmple \n",
    "q=\"human\"\n",
    "q.center(11,\"*\")"
   ]
  },
  {
   "cell_type": "code",
   "execution_count": 23,
   "id": "4d3edf9b",
   "metadata": {},
   "outputs": [],
   "source": [
    "# 11 . Write your own definition of compiler and interpretor without copy paste form internet in your own language\n",
    "# Ans. Compiler - It is a type of software that runs or executes the written code at once or runs the whole codes with one go.\n",
    "# Interpretor - It executes the written code line by line or one line at a time into machine code.\n"
   ]
  },
  {
   "cell_type": "raw",
   "id": "df1e8080",
   "metadata": {},
   "source": [
    "# 12 . Python is a interpreted of compiled language give a clear ans with your understanding \n",
    "Ans. Python is an interpreted language. Code is executed line by line by the Python interpreter without a separate compilation step. In contrast, compiled languages like C require a compilation process before execution.\n",
    "\n",
    "\n",
    "\n",
    "\n"
   ]
  },
  {
   "cell_type": "code",
   "execution_count": null,
   "id": "2861ecdd",
   "metadata": {},
   "outputs": [],
   "source": [
    "13 . Try to write a usecase of python with your understanding .\n",
    "Python is commonly used for :-\n",
    " \n",
    "          a) Developing websites and software\n",
    "          b) Task automation\n",
    "          c) Data analysis \n",
    "          d) data visualization.\n",
    "          e) and many more....\n"
   ]
  },
  {
   "cell_type": "code",
   "execution_count": null,
   "id": "a83ae4e6",
   "metadata": {},
   "outputs": [],
   "source": []
  }
 ],
 "metadata": {
  "kernelspec": {
   "display_name": "Python 3 (ipykernel)",
   "language": "python",
   "name": "python3"
  },
  "language_info": {
   "codemirror_mode": {
    "name": "ipython",
    "version": 3
   },
   "file_extension": ".py",
   "mimetype": "text/x-python",
   "name": "python",
   "nbconvert_exporter": "python",
   "pygments_lexer": "ipython3",
   "version": "3.11.5"
  }
 },
 "nbformat": 4,
 "nbformat_minor": 5
}
